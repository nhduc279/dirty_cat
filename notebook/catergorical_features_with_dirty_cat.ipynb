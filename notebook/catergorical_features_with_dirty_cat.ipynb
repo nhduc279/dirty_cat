{
 "cells": [
  {
   "cell_type": "code",
   "execution_count": 1,
   "id": "2c893b86",
   "metadata": {},
   "outputs": [],
   "source": [
    "import pandas as pd\n",
    "import numpy as np\n",
    "from sklearn.ensemble import HistGradientBoostingClassifier\n",
    "from sklearn.preprocessing import OneHotEncoder \n",
    "from dirty_cat import SimilarityEncoder, TargetEncoder, GapEncoder, SuperVectorizer\n",
    "from sklearn.pipeline import make_pipeline\n",
    "from sklearn.compose import make_column_transformer\n",
    "from sklearn.model_selection import cross_val_score"
   ]
  },
  {
   "cell_type": "code",
   "execution_count": 2,
   "id": "ef70e4c5",
   "metadata": {},
   "outputs": [
    {
     "data": {
      "text/html": [
       "<div>\n",
       "<style scoped>\n",
       "    .dataframe tbody tr th:only-of-type {\n",
       "        vertical-align: middle;\n",
       "    }\n",
       "\n",
       "    .dataframe tbody tr th {\n",
       "        vertical-align: top;\n",
       "    }\n",
       "\n",
       "    .dataframe thead th {\n",
       "        text-align: right;\n",
       "    }\n",
       "</style>\n",
       "<table border=\"1\" class=\"dataframe\">\n",
       "  <thead>\n",
       "    <tr style=\"text-align: right;\">\n",
       "      <th></th>\n",
       "      <th>PassengerId</th>\n",
       "      <th>Survived</th>\n",
       "      <th>Pclass</th>\n",
       "      <th>Name</th>\n",
       "      <th>Sex</th>\n",
       "      <th>Age</th>\n",
       "      <th>SibSp</th>\n",
       "      <th>Parch</th>\n",
       "      <th>Ticket</th>\n",
       "      <th>Fare</th>\n",
       "      <th>Cabin</th>\n",
       "      <th>Embarked</th>\n",
       "    </tr>\n",
       "  </thead>\n",
       "  <tbody>\n",
       "    <tr>\n",
       "      <th>0</th>\n",
       "      <td>1</td>\n",
       "      <td>0</td>\n",
       "      <td>3</td>\n",
       "      <td>Braund, Mr. Owen Harris</td>\n",
       "      <td>male</td>\n",
       "      <td>22.0</td>\n",
       "      <td>1</td>\n",
       "      <td>0</td>\n",
       "      <td>A/5 21171</td>\n",
       "      <td>7.2500</td>\n",
       "      <td>NaN</td>\n",
       "      <td>S</td>\n",
       "    </tr>\n",
       "    <tr>\n",
       "      <th>1</th>\n",
       "      <td>2</td>\n",
       "      <td>1</td>\n",
       "      <td>1</td>\n",
       "      <td>Cumings, Mrs. John Bradley (Florence Briggs Th...</td>\n",
       "      <td>female</td>\n",
       "      <td>38.0</td>\n",
       "      <td>1</td>\n",
       "      <td>0</td>\n",
       "      <td>PC 17599</td>\n",
       "      <td>71.2833</td>\n",
       "      <td>C85</td>\n",
       "      <td>C</td>\n",
       "    </tr>\n",
       "    <tr>\n",
       "      <th>2</th>\n",
       "      <td>3</td>\n",
       "      <td>1</td>\n",
       "      <td>3</td>\n",
       "      <td>Heikkinen, Miss. Laina</td>\n",
       "      <td>female</td>\n",
       "      <td>26.0</td>\n",
       "      <td>0</td>\n",
       "      <td>0</td>\n",
       "      <td>STON/O2. 3101282</td>\n",
       "      <td>7.9250</td>\n",
       "      <td>NaN</td>\n",
       "      <td>S</td>\n",
       "    </tr>\n",
       "    <tr>\n",
       "      <th>3</th>\n",
       "      <td>4</td>\n",
       "      <td>1</td>\n",
       "      <td>1</td>\n",
       "      <td>Futrelle, Mrs. Jacques Heath (Lily May Peel)</td>\n",
       "      <td>female</td>\n",
       "      <td>35.0</td>\n",
       "      <td>1</td>\n",
       "      <td>0</td>\n",
       "      <td>113803</td>\n",
       "      <td>53.1000</td>\n",
       "      <td>C123</td>\n",
       "      <td>S</td>\n",
       "    </tr>\n",
       "    <tr>\n",
       "      <th>4</th>\n",
       "      <td>5</td>\n",
       "      <td>0</td>\n",
       "      <td>3</td>\n",
       "      <td>Allen, Mr. William Henry</td>\n",
       "      <td>male</td>\n",
       "      <td>35.0</td>\n",
       "      <td>0</td>\n",
       "      <td>0</td>\n",
       "      <td>373450</td>\n",
       "      <td>8.0500</td>\n",
       "      <td>NaN</td>\n",
       "      <td>S</td>\n",
       "    </tr>\n",
       "  </tbody>\n",
       "</table>\n",
       "</div>"
      ],
      "text/plain": [
       "   PassengerId  Survived  Pclass  \\\n",
       "0            1         0       3   \n",
       "1            2         1       1   \n",
       "2            3         1       3   \n",
       "3            4         1       1   \n",
       "4            5         0       3   \n",
       "\n",
       "                                                Name     Sex   Age  SibSp  \\\n",
       "0                            Braund, Mr. Owen Harris    male  22.0      1   \n",
       "1  Cumings, Mrs. John Bradley (Florence Briggs Th...  female  38.0      1   \n",
       "2                             Heikkinen, Miss. Laina  female  26.0      0   \n",
       "3       Futrelle, Mrs. Jacques Heath (Lily May Peel)  female  35.0      1   \n",
       "4                           Allen, Mr. William Henry    male  35.0      0   \n",
       "\n",
       "   Parch            Ticket     Fare Cabin Embarked  \n",
       "0      0         A/5 21171   7.2500   NaN        S  \n",
       "1      0          PC 17599  71.2833   C85        C  \n",
       "2      0  STON/O2. 3101282   7.9250   NaN        S  \n",
       "3      0            113803  53.1000  C123        S  \n",
       "4      0            373450   8.0500   NaN        S  "
      ]
     },
     "execution_count": 2,
     "metadata": {},
     "output_type": "execute_result"
    }
   ],
   "source": [
    "train = pd.read_csv('data\\\\train.csv')\n",
    "train.head()"
   ]
  },
  {
   "cell_type": "markdown",
   "id": "c9e241c3",
   "metadata": {},
   "source": [
    "## HistGradientBoostingClassifier with categorical features"
   ]
  },
  {
   "cell_type": "markdown",
   "id": "0e525444",
   "metadata": {},
   "source": [
    "**Prepare categorial features**"
   ]
  },
  {
   "cell_type": "code",
   "execution_count": 3,
   "id": "32878fa5",
   "metadata": {},
   "outputs": [],
   "source": [
    "categorical_features = ['Sex', 'Ticket', 'Cabin', 'Embarked']"
   ]
  },
  {
   "cell_type": "markdown",
   "id": "b80d3013",
   "metadata": {},
   "source": [
    "**Prepare X (features) and y (targets)**"
   ]
  },
  {
   "cell_type": "code",
   "execution_count": 4,
   "id": "47b8be28",
   "metadata": {},
   "outputs": [],
   "source": [
    "X = train[categorical_features]\n",
    "y = train['Survived']"
   ]
  },
  {
   "cell_type": "markdown",
   "id": "91538086",
   "metadata": {},
   "source": [
    "**Check missing values**"
   ]
  },
  {
   "cell_type": "code",
   "execution_count": 5,
   "id": "fced1fb3",
   "metadata": {},
   "outputs": [
    {
     "data": {
      "text/plain": [
       "Sex           0\n",
       "Ticket        0\n",
       "Cabin       687\n",
       "Embarked      2\n",
       "dtype: int64"
      ]
     },
     "execution_count": 5,
     "metadata": {},
     "output_type": "execute_result"
    }
   ],
   "source": [
    "X.isna().sum()"
   ]
  },
  {
   "cell_type": "markdown",
   "id": "41d40150",
   "metadata": {},
   "source": [
    "**Prepare a dict of encoders for looping**"
   ]
  },
  {
   "cell_type": "code",
   "execution_count": 6,
   "id": "8698900c",
   "metadata": {},
   "outputs": [
    {
     "data": {
      "text/plain": [
       "{'one-hot': OneHotEncoder(handle_unknown='ignore', sparse=False),\n",
       " 'similarity': SimilarityEncoder(),\n",
       " 'target': TargetEncoder(handle_unknown='ignore'),\n",
       " 'gap': GapEncoder(n_components=30, random_state=5)}"
      ]
     },
     "execution_count": 6,
     "metadata": {},
     "output_type": "execute_result"
    }
   ],
   "source": [
    "encoders = {}\n",
    "encoders['one-hot'] = OneHotEncoder(handle_unknown='ignore', sparse=False)\n",
    "encoders['similarity'] = SimilarityEncoder(similarity='ngram')\n",
    "encoders['target'] = TargetEncoder(handle_unknown='ignore')\n",
    "encoders['gap'] = GapEncoder(n_components=30, random_state=5)\n",
    "\n",
    "encoders"
   ]
  },
  {
   "cell_type": "markdown",
   "id": "ee641269",
   "metadata": {},
   "source": [
    "**We now loop over the different encoding methods, instantiate a new Pipeline each time, fit it and store the returned cross-validation score.**"
   ]
  },
  {
   "cell_type": "code",
   "execution_count": 7,
   "id": "4d617f58",
   "metadata": {},
   "outputs": [
    {
     "name": "stdout",
     "output_type": "stream",
     "text": [
      "One-Hot Encoding (accuracy = 0.780)\n",
      "Similarity Encoding (accuracy = 0.811)\n",
      "Target Encoding (accuracy = 0.786)\n",
      "Gap Encoding (accuracy = 0.837)\n"
     ]
    }
   ],
   "source": [
    "# one hot ecoding for for \"Sex\" and \"Embarked\" (fixed)\n",
    "ohe = OneHotEncoder(handle_unknown='ignore', sparse=False, dtype=float)\n",
    "\n",
    "for name, method in encoders.items():\n",
    "    \n",
    "    encoder = make_column_transformer(\n",
    "        (ohe, ['Sex', 'Embarked']),\n",
    "        (method, ['Cabin', 'Ticket'])) # \"Cabin\" and \"Ticket\" are dirty categories\n",
    "    \n",
    "    hist = HistGradientBoostingClassifier()\n",
    "    \n",
    "    pipe = make_pipeline(encoder, hist)\n",
    "    \n",
    "    scores = cross_val_score(pipe, X, y, cv=5, scoring='accuracy', n_jobs=-1).mean()\n",
    "    \n",
    "    print(f'{name.title()} Encoding (accuracy = {scores:.3f})')"
   ]
  },
  {
   "cell_type": "markdown",
   "id": "72e874b2",
   "metadata": {},
   "source": [
    "- The best encoder for \"Cabin\" and \"Ticket\" is **gap encoding**"
   ]
  },
  {
   "cell_type": "markdown",
   "id": "523f9363",
   "metadata": {},
   "source": [
    "**Combine encoders**"
   ]
  },
  {
   "cell_type": "code",
   "execution_count": 8,
   "id": "643dee4d",
   "metadata": {},
   "outputs": [],
   "source": [
    "# prepare the encoders\n",
    "ohe = OneHotEncoder(handle_unknown='ignore', sparse=False, dtype=float)\n",
    "gap_enc = GapEncoder(n_components=30, random_state=5)\n",
    "\n",
    "# make a transformer\n",
    "ct = make_column_transformer((ohe, ['Sex', 'Embarked']),\n",
    "                             (gap_enc, ['Cabin', 'Ticket']))\n",
    "\n",
    "# initialize the model\n",
    "hist = HistGradientBoostingClassifier()\n",
    "\n",
    "# make a pipeline\n",
    "pipe = make_pipeline(ct, hist)"
   ]
  },
  {
   "cell_type": "code",
   "execution_count": 9,
   "id": "15491df4",
   "metadata": {
    "scrolled": true
   },
   "outputs": [
    {
     "data": {
      "text/plain": [
       "0.8372606867114432"
      ]
     },
     "execution_count": 9,
     "metadata": {},
     "output_type": "execute_result"
    }
   ],
   "source": [
    "cross_val_score(pipe, X, y, cv=5, scoring='accuracy', n_jobs=-1).mean()"
   ]
  },
  {
   "cell_type": "markdown",
   "id": "e6b704d2",
   "metadata": {},
   "source": [
    "#### SuperVectorizer: automatic vectorization"
   ]
  },
  {
   "cell_type": "code",
   "execution_count": 10,
   "id": "e1fd28f7",
   "metadata": {},
   "outputs": [
    {
     "data": {
      "text/plain": [
       "0.8383717280773334"
      ]
     },
     "execution_count": 10,
     "metadata": {},
     "output_type": "execute_result"
    }
   ],
   "source": [
    "super_vect = SuperVectorizer(auto_cast=True, cardinality_threshold=40)\n",
    "\n",
    "pipe = make_pipeline(super_vect, hist)\n",
    "\n",
    "cross_val_score(pipe, X, y, cv=5, scoring='accuracy', n_jobs=-1).mean()"
   ]
  },
  {
   "cell_type": "markdown",
   "id": "27bd5620",
   "metadata": {},
   "source": [
    "- Awesome dirty_cat: https://dirty-cat.github.io/stable/"
   ]
  }
 ],
 "metadata": {
  "kernelspec": {
   "display_name": "Python 3 (ipykernel)",
   "language": "python",
   "name": "python3"
  },
  "language_info": {
   "codemirror_mode": {
    "name": "ipython",
    "version": 3
   },
   "file_extension": ".py",
   "mimetype": "text/x-python",
   "name": "python",
   "nbconvert_exporter": "python",
   "pygments_lexer": "ipython3",
   "version": "3.8.8"
  }
 },
 "nbformat": 4,
 "nbformat_minor": 5
}
